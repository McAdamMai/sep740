{
 "cells": [
  {
   "cell_type": "markdown",
   "metadata": {},
   "source": [
    "※ Global variables"
   ]
  },
  {
   "cell_type": "code",
   "execution_count": 97,
   "metadata": {
    "ExecuteTime": {
     "end_time": "2025-03-31T03:53:21.200068400Z",
     "start_time": "2025-03-31T03:53:21.184099600Z"
    }
   },
   "outputs": [
    {
     "name": "stdout",
     "output_type": "stream",
     "text": [
      "cuda:0\n"
     ]
    }
   ],
   "source": [
    "import torch\n",
    "\n",
    "gnDataset = 1\n",
    "gBase_path = 'C:/Users/AdamBao/PycharmProjects/Tool_Classifier/Model'\n",
    "gnClasses = 5\n",
    "\n",
    "gDropout_rate = 0.3\n",
    "gBatch_momentum = 0.7\n",
    "gLearning_rate = 0.00001\n",
    "gWeight_decay = 1e-3\n",
    "gOpt_Momentum = 0.8\n",
    "\n",
    "gData_batch_size = 8\n",
    "gEarly_stop_patience = 15\n",
    "gnEpochs = 100\n",
    "gbData_augmentation = True\n",
    "\n",
    "gModel_name = \"resnet\" # \"resnet\", \"cnn\"\n",
    "gOptimizer_name = \"Adam\" # , \"SGD\"\n",
    "gCriterion_name = \"CrossEntropyLoss\"\n",
    "\n",
    "\n",
    "import os\n",
    "os.environ[\"CUDA_VISIBLE_DEVICES\"] = \"0\"\n",
    "device = torch.device(\"cuda:0\" if torch.cuda.is_available() else \"cpu\")\n",
    "print(device)"
   ]
  },
  {
   "cell_type": "markdown",
   "metadata": {},
   "source": [
    "    ※ Widget functions"
   ]
  },
  {
   "cell_type": "code",
   "execution_count": 102,
   "metadata": {
    "ExecuteTime": {
     "end_time": "2025-03-31T03:54:03.553680600Z",
     "start_time": "2025-03-31T03:54:03.537580400Z"
    }
   },
   "outputs": [],
   "source": [
    "from torch.utils.data import DataLoader, Dataset\n",
    "from torchvision.transforms import ToTensor\n",
    "import torchvision.transforms as transforms\n",
    "import matplotlib.pyplot as plt\n",
    "import torch.nn as nn\n",
    "import torch.nn.functional as F\n",
    "import torch.optim as optim\n",
    "import pickle\n",
    "\n",
    "class ToolDataset(Dataset):\n",
    "    def __init__(self, data, labels, transform=None):\n",
    "        self.data = data\n",
    "        self.labels = labels\n",
    "        self.transform = transform\n",
    "\n",
    "    def __len__(self):\n",
    "        return len(self.data)\n",
    "\n",
    "    def __getitem__(self, idx):\n",
    "        img = self.data[idx]\n",
    "        label = self.labels[idx]\n",
    "        if self.transform and not isinstance(img, torch.Tensor):\n",
    "            img = self.transform(img)\n",
    "        return img, label\n",
    "\n",
    "def _load_data(train_data_path):\n",
    "    raw_data = torch.load(train_data_path)\n",
    "    data = raw_data['data']\n",
    "    labels = raw_data['labels']\n",
    "    return data, labels\n",
    "\n",
    "def remap_labels(labels, class_mapping):\n",
    "    return [class_mapping[label] for label in labels]\n",
    "\n",
    "def load_class_names(filepath):\n",
    "    with open(filepath, 'r') as file:\n",
    "        classes = [line.strip() for line in file]\n",
    "    return classes\n",
    "\n",
    "def count_parameters(model):\n",
    "    return sum(p.numel() for p in model.parameters() if p.requires_grad)\n",
    "\n",
    "def count_layers(model):\n",
    "    layer_count = 0\n",
    "    for module in model.children():\n",
    "        if not isinstance(module, nn.Dropout):  # deduct Dropout\n",
    "            layer_count += 1\n",
    "    return layer_count\n",
    "\n",
    "\n",
    "class ToolPlot():\n",
    "    def __init__(self, model, criterion, device, train_dataloader, test_dataloader, model_num):\n",
    "        self.model = model\n",
    "        self.criterion = criterion \n",
    "        self.device = device\n",
    "        self.train_losses = []\n",
    "        self.validation_losses = []\n",
    "        self.validation_accuracies = []\n",
    "        self.train_dataloader = train_dataloader\n",
    "        self.test_dataloader = test_dataloader\n",
    "        self.running_loss = 0.0\n",
    "        self.model_num = model_num + 1\n",
    "    \n",
    "    def init_running_loss(self):\n",
    "        self.running_loss = 0.0\n",
    "\n",
    "    def add_loss(self, loss):\n",
    "        self.running_loss += loss\n",
    "\n",
    "    def append(self, epoch):\n",
    "        train_loss = self.running_loss / len(self.train_dataloader)\n",
    "        validation_loss, validation_accuracy = self._validate()\n",
    "        self.train_losses.append(train_loss)\n",
    "        self.validation_losses.append(validation_loss)\n",
    "        self.validation_accuracies.append(validation_accuracy)\n",
    "        self._print(epoch, train_loss, validation_loss, validation_accuracy)\n",
    "        return validation_loss\n",
    "\n",
    "    def plot(self):\n",
    "        self._plot_metrics(self.train_losses, self.validation_losses, self.validation_accuracies, self.model_num)\n",
    "    \n",
    "    def _print(self, epoch, train_loss, validation_loss, validation_accuracy):\n",
    "        print(f\"Epoch {epoch+1}, Train Loss: {train_loss:.4f}, Validation Loss: {validation_loss:.4f}, Validation Accuracy: {validation_accuracy:.4f}\")\n",
    "\n",
    "    def _validate(self):\n",
    "        self.model.eval()  # evaluation mode\n",
    "        running_loss = 0.0\n",
    "        correct_predictions = 0\n",
    "        total_samples = 0\n",
    "        \n",
    "        with torch.no_grad():  # disable gradient calculations\n",
    "            for inputs, labels in self.test_dataloader:\n",
    "                inputs, labels = inputs.to(self.device), labels.to(self.device)\n",
    "\n",
    "                outputs = self.model(inputs)\n",
    "                loss = self.criterion(outputs, labels)\n",
    "                running_loss += loss.item()\n",
    "\n",
    "                _, predicted = torch.max(outputs, 1)\n",
    "                total_samples += labels.size(0)\n",
    "                correct_predictions += (predicted == labels).sum().item()\n",
    "        \n",
    "        validation_loss = running_loss / len(self.test_dataloader)\n",
    "        validation_accuracy = correct_predictions / total_samples\n",
    "        return validation_loss, validation_accuracy\n",
    "\n",
    "    def _plot_metrics(self, train_losses, validation_losses, validation_accuracies, model_num):\n",
    "        epochs = range(1, len(train_losses) + 1)\n",
    "\n",
    "        plt.figure(figsize=(12, 6))\n",
    "\n",
    "        plt.subplot(1, 2, 1)\n",
    "        plt.plot(epochs, train_losses, label='Train Loss', marker='o')\n",
    "        plt.plot(epochs, validation_losses, label='Validation Loss', marker='o')\n",
    "        plt.title(f'Model {model_num} Learning per Epoch')\n",
    "        plt.xlabel('Epoch')\n",
    "        plt.ylabel('Loss')\n",
    "        plt.legend()\n",
    "        plt.grid(True)\n",
    "\n",
    "        plt.subplot(1, 2, 2)\n",
    "        plt.plot(epochs, validation_accuracies, label='Validation Accuracy', marker='o', color='green')\n",
    "        plt.title(f'Model {model_num} Accuracy per Epoch')\n",
    "        plt.xlabel('Epoch')\n",
    "        plt.ylabel('Accuracy')\n",
    "        plt.legend()\n",
    "        plt.grid(True)\n",
    "\n",
    "        plt.tight_layout()\n",
    "        plt.show()    \n",
    "\n",
    "\n",
    "class EarlyStopping():\n",
    "    def __init__(self):\n",
    "        self.best_val_loss = float('inf')\n",
    "        self.patience_counter = 0\n",
    "\n",
    "    def isStop(self, validation_loss):\n",
    "        if validation_loss < self.best_val_loss: #\n",
    "            self.best_val_loss = validation_loss\n",
    "            self.patience_counter = 0\n",
    "        else:\n",
    "            self.patience_counter += 1\n",
    "        \n",
    "        if self.patience_counter >= gEarly_stop_patience: #\n",
    "            print(\"Early stopping\")\n",
    "            return True\n",
    "        else:\n",
    "            return False\n",
    "\n",
    "def get_data_augmentation(mode):\n",
    "    if gbData_augmentation == False:\n",
    "        return None\n",
    "    \n",
    "    if mode == \"train\":\n",
    "        return transforms.Compose([\n",
    "        transforms.RandomHorizontalFlip(p=0.5),\n",
    "        transforms.RandomApply([transforms.ColorJitter(brightness=0.5, contrast=0.5)], p=0.3),\n",
    "        transforms.RandomApply([transforms.RandomRotation(degrees=15)], p=0.3),\n",
    "        transforms.ToTensor(),\n",
    "        transforms.Normalize(mean=[0.5, 0.5, 0.5], std=[0.5, 0.5, 0.5])\n",
    "        ])\n",
    "    else:\n",
    "        return transforms.Compose([\n",
    "            transforms.ToTensor(),\n",
    "            transforms.Normalize(mean=[0.5, 0.5, 0.5], std=[0.5, 0.5, 0.5])\n",
    "        ])\n",
    "\n",
    "def load_data(train_data_path, test_data_path):\n",
    "    train_data, train_labels = _load_data(train_data_path)\n",
    "    unique_labels = sorted({int(label) for label in train_labels})\n",
    "    class_mapping = {label: i for i, label in enumerate(unique_labels)}\n",
    "    print(class_mapping)\n",
    "    if train_data_path == None:\n",
    "        train_dataloader = None\n",
    "    else:\n",
    "        train_remapped_labels = remap_labels(train_labels, class_mapping)\n",
    "        transform = get_data_augmentation(\"train\")\n",
    "        train_dataset = ToolDataset(train_data, train_remapped_labels, transform=transform)\n",
    "        train_dataloader = DataLoader(train_dataset, batch_size=gData_batch_size, shuffle=True)\n",
    "    if test_data_path == None:\n",
    "        test_dataloader = None\n",
    "    else:\n",
    "        test_data, test_labels = _load_data(test_data_path)\n",
    "        remapped_test_labels = remap_labels(test_labels, class_mapping)\n",
    "        transform = get_data_augmentation(\"test\")\n",
    "        test_dataset = ToolDataset(test_data, remapped_test_labels, transform=transform)\n",
    "        test_dataloader = DataLoader(test_dataset, batch_size=gData_batch_size, shuffle=False)\n",
    "\n",
    "    return train_dataloader, test_dataloader"
   ]
  },
  {
   "cell_type": "markdown",
   "metadata": {},
   "source": [
    "※ Datasets"
   ]
  },
  {
   "cell_type": "code",
   "execution_count": 103,
   "metadata": {
    "ExecuteTime": {
     "end_time": "2025-03-31T03:54:05.949348100Z",
     "start_time": "2025-03-31T03:54:05.719599300Z"
    }
   },
   "outputs": [
    {
     "name": "stdout",
     "output_type": "stream",
     "text": [
      "C:/Users/AdamBao/PycharmProjects/Tool_Classifier/Model/train_data.pth\n",
      "C:/Users/AdamBao/PycharmProjects/Tool_Classifier/Model/test_data.pth\n",
      "{172: 0, 684: 1, 789: 2, 823: 3, 938: 4}\n",
      "Batch 1:\n",
      "  Inputs type: <class 'torch.Tensor'>, size: torch.Size([8, 3, 64, 64])\n",
      "  Targets type: <class 'torch.Tensor'>, size: torch.Size([8])\n"
     ]
    }
   ],
   "source": [
    "train_data_path = f\"{gBase_path}/train_data.pth\"\n",
    "test_data_path = f\"{gBase_path}/test_data.pth\"\n",
    "print(train_data_path)\n",
    "print(test_data_path)\n",
    "train_dataloader, test_dataloader = load_data(train_data_path, test_data_path)\n",
    "for batch_idx, (inputs, targets) in enumerate(train_dataloader):\n",
    "    print(f\"Batch {batch_idx + 1}:\")\n",
    "    print(f\"  Inputs type: {type(inputs)}, size: {inputs.shape}\")\n",
    "    print(f\"  Targets type: {type(targets)}, size: {targets.shape}\")\n",
    "    break  # Exit after inspecting the first batch"
   ]
  },
  {
   "cell_type": "markdown",
   "metadata": {},
   "source": [
    "※ Models"
   ]
  },
  {
   "cell_type": "markdown",
   "metadata": {},
   "source": [
    "1. ResNet18"
   ]
  },
  {
   "cell_type": "code",
   "execution_count": 104,
   "metadata": {
    "ExecuteTime": {
     "end_time": "2025-03-31T03:54:08.648567Z",
     "start_time": "2025-03-31T03:54:08.632559Z"
    }
   },
   "outputs": [],
   "source": [
    "class ImprovedCNN(nn.Module):\n",
    "    def __init__(self, num_classes=5):\n",
    "        super(ImprovedCNN, self).__init__()\n",
    "\n",
    "        self.conv_layers = nn.Sequential(\n",
    "            # Conv Block 1\n",
    "            nn.Conv2d(3, 64, kernel_size=3, padding=1),\n",
    "            nn.BatchNorm2d(64),\n",
    "            nn.ReLU(),\n",
    "            nn.Conv2d(64, 64, kernel_size=3, padding=1),  # Extra Conv Layer\n",
    "            nn.BatchNorm2d(64),\n",
    "            nn.ReLU(),\n",
    "            nn.MaxPool2d(2, 2),\n",
    "\n",
    "            # Conv Block 2\n",
    "            nn.Conv2d(64, 128, kernel_size=3, padding=1),\n",
    "            nn.BatchNorm2d(128),\n",
    "            nn.ReLU(),\n",
    "            nn.Conv2d(128, 128, kernel_size=3, padding=1),  # Extra Conv Layer\n",
    "            nn.BatchNorm2d(128),\n",
    "            nn.ReLU(),\n",
    "            nn.MaxPool2d(2, 2),\n",
    "\n",
    "            # Conv Block 3\n",
    "            nn.Conv2d(128, 256, kernel_size=3, padding=1),\n",
    "            nn.BatchNorm2d(256),\n",
    "            nn.ReLU(),\n",
    "            nn.Conv2d(256, 256, kernel_size=3, padding=1),  # Extra Conv Layer\n",
    "            nn.BatchNorm2d(256),\n",
    "            nn.ReLU(),\n",
    "            nn.MaxPool2d(2, 2),\n",
    "        )\n",
    "\n",
    "        # **Global Average Pooling**\n",
    "        self.gap = nn.AdaptiveAvgPool2d(1)  # Output: (batch_size, 256, 1, 1)\n",
    "\n",
    "        # Fully Connected Layers\n",
    "        self.fc_layers = nn.Sequential(\n",
    "            nn.Linear(256, 128),  # Reduced size\n",
    "            nn.ReLU(),\n",
    "            nn.Dropout(0.7),  # Reduced dropout\n",
    "            nn.Linear(128, num_classes)  # Output layer\n",
    "        )\n",
    "\n",
    "    def forward(self, x):\n",
    "        x = self.conv_layers(x)\n",
    "        x = self.gap(x)  # Apply Global Average Pooling\n",
    "        x = x.view(x.size(0), -1)  # Flatten before FC layers\n",
    "        return self.fc_layers(x)\n"
   ]
  },
  {
   "cell_type": "markdown",
   "metadata": {},
   "source": [
    "2. CNN"
   ]
  },
  {
   "cell_type": "code",
   "execution_count": 105,
   "metadata": {
    "ExecuteTime": {
     "end_time": "2025-03-31T03:54:10.105655Z",
     "start_time": "2025-03-31T03:54:10.096172800Z"
    }
   },
   "outputs": [],
   "source": [
    "class CNN(nn.Module):\n",
    "    def __init__(self, num_classes, dropout_rate=0.5):\n",
    "        super(CNN, self).__init__()\n",
    "\n",
    "        # Convolutional layers\n",
    "        self.conv1 = nn.Conv2d(3, 32, kernel_size=3, padding=1)\n",
    "        self.bn1 = nn.BatchNorm2d(32)\n",
    "        self.conv2 = nn.Conv2d(32, 64, kernel_size=3, padding=1)\n",
    "        self.bn2 = nn.BatchNorm2d(64)\n",
    "        self.conv3 = nn.Conv2d(64, 128, kernel_size=3, padding=1)\n",
    "        self.bn3 = nn.BatchNorm2d(128)\n",
    "        self.conv4 = nn.Conv2d(128, 256, kernel_size=3, padding=1)\n",
    "        self.bn4 = nn.BatchNorm2d(256)\n",
    "        \n",
    "        # Pooling layers\n",
    "        self.pool1 = nn.MaxPool2d(2)\n",
    "        self.pool2 = nn.MaxPool2d(2)\n",
    "        self.pool3 = nn.MaxPool2d(2)\n",
    "        # Calculate the flattened size by passing dummy input\n",
    "        \"\"\"dummy_input = torch.randn(1, 3, 64, 64)\n",
    "        dummy_output = self.pool2(F.relu(self.bn3(self.conv3(self.pool1(F.relu(self.bn2(self.conv2(F.relu(self.bn1(self.conv1(dummy_input)))))))))))\n",
    "        flattened_size = dummy_output.view(1, -1).size(1)\n",
    "        \n",
    "        # Fully connected layers\n",
    "        self.fc1 = nn.Linear(flattened_size, 465)\n",
    "        self.fc2 = nn.Linear(465, num_classes)\"\"\"\n",
    "        \n",
    "                # Fully connected layers\n",
    "        self.fc1 = nn.Linear(16384, 465)  # Corrected flattened size\n",
    "        self.fc2 = nn.Linear(465, num_classes)\n",
    "        \n",
    "        # Dropout\n",
    "        self.dropout = nn.Dropout(dropout_rate)\n",
    "       \n",
    "    def forward(self, x):\n",
    "        # Convolutional layer + ReLU + Batch Normalization\n",
    "        x = F.relu(self.bn1(self.conv1(x)))\n",
    "        x = F.relu(self.bn2(self.conv2(x)))\n",
    "        x = self.pool1(x) # first pooling\n",
    "        x = F.relu(self.bn3(self.conv3(x)))\n",
    "        x = self.pool2(x) # second pooling\n",
    "        x = F.relu(self.bn4(self.conv4(x)))\n",
    "        x = self.pool3(x)\n",
    "         \n",
    "        # Flatten\n",
    "        x = x.view(x.size(0), -1)\n",
    "        \n",
    "        # Fully connected layers + Dropout\n",
    "        x = self.dropout(F.relu(self.fc1(x)))\n",
    "        x = self.fc2(x)\n",
    "        return x"
   ]
  },
  {
   "cell_type": "markdown",
   "metadata": {},
   "source": [
    "※ Model Functions"
   ]
  },
  {
   "cell_type": "code",
   "execution_count": 106,
   "metadata": {
    "ExecuteTime": {
     "end_time": "2025-03-31T03:54:10.880732600Z",
     "start_time": "2025-03-31T03:54:10.866781300Z"
    }
   },
   "outputs": [],
   "source": [
    "def _get_model(model_name, dropout_rate, batch_momentum):\n",
    "    print(f\"model is {model_name}\")\n",
    "    if model_name == \"resnet\":\n",
    "        model = ImprovedCNN(num_classes=gnClasses).to(device)\n",
    "    elif model_name == \"cnn\":\n",
    "        model = CNN(num_classes=gnClasses,\n",
    "                     dropout_rate=dropout_rate).to(device)\n",
    "\n",
    "\n",
    "    print(f\"Model parameters: {count_parameters(model)}\")\n",
    "    print(f\"ModelTotal layers: {count_layers(model)}\")\n",
    "    return model\n",
    "\n",
    "def _get_optimizer(opname, model, learning_rate, weight_decay, opt_momentum):\n",
    "    if opname == \"Adam\":\n",
    "        return optim.Adam(model.parameters(), lr=learning_rate, weight_decay=weight_decay)\n",
    "    elif opname == \"SGD\":\n",
    "        return optim.SGD(model.parameters(), lr=learning_rate, momentum = opt_momentum, weight_decay=weight_decay)\n",
    "\n",
    "def _get_criterion(criterion_name):\n",
    "    if criterion_name == \"CrossEntropyLoss\":\n",
    "        return nn.CrossEntropyLoss()\n",
    "    return nn.CrossEntropyLoss()\n",
    "\n",
    "def get_models(model_name, optimizer_name, criterion_name):\n",
    "    model = _get_model(model_name, gDropout_rate, gBatch_momentum)\n",
    "    optimizer = _get_optimizer(optimizer_name, model, gLearning_rate, gWeight_decay, gOpt_Momentum)\n",
    "    criterion = _get_criterion(criterion_name)\n",
    "    \n",
    "    return model, optimizer, criterion\n",
    "\n",
    "    \n",
    "def save_model(model):\n",
    "    model_saved_path = f\"{gBase_path}/Model/model_weights.pth\"\n",
    "    torch.save(model.state_dict(), model_saved_path)\n",
    "    print(f\"Model is saved to: {model_saved_path}\")\n",
    "\n",
    "def load_model(model, m=0):\n",
    "    model_saved_path = f\"{gBase_path}/Model{m+1}/model{m+1}_weights.pth\"\n",
    "    model.load_state_dict(torch.load(model_saved_path))\n",
    "    print(f\"Model{m+1} is loaded from: {model_saved_path}\")\n"
   ]
  },
  {
   "cell_type": "code",
   "execution_count": 107,
   "outputs": [
    {
     "name": "stdout",
     "output_type": "stream",
     "text": [
      "model is resnet\n",
      "Model parameters: 1180741\n",
      "ModelTotal layers: 3\n"
     ]
    }
   ],
   "source": [
    "model, optimizer, criterion = get_models(gModel_name, gOptimizer_name, gCriterion_name)"
   ],
   "metadata": {
    "collapsed": false,
    "ExecuteTime": {
     "end_time": "2025-03-31T03:54:11.359072100Z",
     "start_time": "2025-03-31T03:54:11.328050400Z"
    }
   }
  },
  {
   "cell_type": "markdown",
   "metadata": {},
   "source": [
    "※ Training / Validating for each model"
   ]
  },
  {
   "cell_type": "code",
   "execution_count": 109,
   "metadata": {
    "ExecuteTime": {
     "end_time": "2025-03-31T05:20:29.977802Z",
     "start_time": "2025-03-31T05:09:56.966883200Z"
    }
   },
   "outputs": [
    {
     "name": "stdout",
     "output_type": "stream",
     "text": [
      "model is resnet\n",
      "Model parameters: 1180741\n",
      "ModelTotal layers: 3\n",
      "{172: 0, 684: 1, 789: 2, 823: 3, 938: 4}\n",
      "training begin\n",
      "Epoch 1, Train Loss: 1.5317, Validation Loss: 1.4189, Validation Accuracy: 0.4245\n",
      "Epoch 2, Train Loss: 1.4395, Validation Loss: 1.3258, Validation Accuracy: 0.5063\n",
      "Epoch 3, Train Loss: 1.3854, Validation Loss: 1.2764, Validation Accuracy: 0.5092\n",
      "Epoch 4, Train Loss: 1.3316, Validation Loss: 1.2215, Validation Accuracy: 0.5740\n",
      "Epoch 5, Train Loss: 1.2879, Validation Loss: 1.1737, Validation Accuracy: 0.5571\n",
      "Epoch 6, Train Loss: 1.2546, Validation Loss: 1.1383, Validation Accuracy: 0.5966\n",
      "Epoch 7, Train Loss: 1.2224, Validation Loss: 1.1083, Validation Accuracy: 0.5853\n",
      "Epoch 8, Train Loss: 1.2068, Validation Loss: 1.1002, Validation Accuracy: 0.5783\n",
      "Epoch 9, Train Loss: 1.1618, Validation Loss: 1.0700, Validation Accuracy: 0.5853\n",
      "Epoch 10, Train Loss: 1.1457, Validation Loss: 1.0152, Validation Accuracy: 0.6389\n",
      "Epoch 11, Train Loss: 1.1275, Validation Loss: 1.0379, Validation Accuracy: 0.6135\n",
      "Epoch 12, Train Loss: 1.1048, Validation Loss: 0.9927, Validation Accuracy: 0.6460\n",
      "Epoch 13, Train Loss: 1.1014, Validation Loss: 1.0279, Validation Accuracy: 0.6220\n",
      "Epoch 14, Train Loss: 1.0774, Validation Loss: 1.0030, Validation Accuracy: 0.6206\n",
      "Epoch 15, Train Loss: 1.0608, Validation Loss: 0.9486, Validation Accuracy: 0.6643\n",
      "Epoch 16, Train Loss: 1.0507, Validation Loss: 1.0038, Validation Accuracy: 0.6178\n",
      "Epoch 17, Train Loss: 1.0319, Validation Loss: 0.9339, Validation Accuracy: 0.6784\n",
      "Epoch 18, Train Loss: 1.0125, Validation Loss: 0.9690, Validation Accuracy: 0.6192\n",
      "Epoch 19, Train Loss: 1.0038, Validation Loss: 0.9420, Validation Accuracy: 0.6629\n",
      "Epoch 20, Train Loss: 1.0022, Validation Loss: 0.9105, Validation Accuracy: 0.6714\n",
      "Epoch 21, Train Loss: 0.9807, Validation Loss: 0.8797, Validation Accuracy: 0.6869\n",
      "Epoch 22, Train Loss: 0.9696, Validation Loss: 0.9165, Validation Accuracy: 0.6573\n",
      "Epoch 23, Train Loss: 0.9675, Validation Loss: 0.8826, Validation Accuracy: 0.6742\n",
      "Epoch 24, Train Loss: 0.9372, Validation Loss: 0.8933, Validation Accuracy: 0.6615\n",
      "Epoch 25, Train Loss: 0.9218, Validation Loss: 0.8495, Validation Accuracy: 0.7052\n",
      "Epoch 26, Train Loss: 0.9156, Validation Loss: 0.8745, Validation Accuracy: 0.6700\n",
      "Epoch 27, Train Loss: 0.8922, Validation Loss: 0.8262, Validation Accuracy: 0.6968\n",
      "Epoch 28, Train Loss: 0.8997, Validation Loss: 0.8608, Validation Accuracy: 0.6883\n",
      "Epoch 29, Train Loss: 0.8878, Validation Loss: 0.8526, Validation Accuracy: 0.6855\n",
      "Epoch 30, Train Loss: 0.8643, Validation Loss: 0.8326, Validation Accuracy: 0.6855\n",
      "Epoch 31, Train Loss: 0.8523, Validation Loss: 0.8063, Validation Accuracy: 0.7080\n",
      "Epoch 32, Train Loss: 0.8450, Validation Loss: 0.8190, Validation Accuracy: 0.7024\n",
      "Epoch 33, Train Loss: 0.8250, Validation Loss: 0.8144, Validation Accuracy: 0.7193\n",
      "Epoch 34, Train Loss: 0.8199, Validation Loss: 0.8152, Validation Accuracy: 0.6911\n",
      "Epoch 35, Train Loss: 0.8026, Validation Loss: 0.8450, Validation Accuracy: 0.6841\n",
      "Epoch 36, Train Loss: 0.7870, Validation Loss: 0.8329, Validation Accuracy: 0.6939\n",
      "Epoch 37, Train Loss: 0.7932, Validation Loss: 0.8455, Validation Accuracy: 0.6855\n",
      "Epoch 38, Train Loss: 0.7806, Validation Loss: 0.7750, Validation Accuracy: 0.7137\n",
      "Epoch 39, Train Loss: 0.7715, Validation Loss: 0.8263, Validation Accuracy: 0.7080\n",
      "Epoch 40, Train Loss: 0.7538, Validation Loss: 0.7836, Validation Accuracy: 0.7123\n",
      "Epoch 41, Train Loss: 0.7387, Validation Loss: 0.8119, Validation Accuracy: 0.7151\n",
      "Epoch 42, Train Loss: 0.7380, Validation Loss: 1.0049, Validation Accuracy: 0.6192\n",
      "Epoch 43, Train Loss: 0.7280, Validation Loss: 0.8132, Validation Accuracy: 0.6939\n",
      "Epoch 44, Train Loss: 0.6984, Validation Loss: 0.8175, Validation Accuracy: 0.6982\n",
      "Epoch 45, Train Loss: 0.7024, Validation Loss: 0.8106, Validation Accuracy: 0.6982\n",
      "Epoch 46, Train Loss: 0.6947, Validation Loss: 0.7982, Validation Accuracy: 0.7151\n",
      "Epoch 47, Train Loss: 0.6713, Validation Loss: 0.8337, Validation Accuracy: 0.7024\n",
      "Epoch 48, Train Loss: 0.6638, Validation Loss: 0.8481, Validation Accuracy: 0.7066\n",
      "Epoch 49, Train Loss: 0.6473, Validation Loss: 0.7936, Validation Accuracy: 0.7179\n",
      "Epoch 50, Train Loss: 0.6429, Validation Loss: 0.7827, Validation Accuracy: 0.7278\n",
      "Epoch 51, Train Loss: 0.6285, Validation Loss: 0.8004, Validation Accuracy: 0.7207\n",
      "Epoch 52, Train Loss: 0.6207, Validation Loss: 0.7845, Validation Accuracy: 0.7165\n",
      "Epoch 53, Train Loss: 0.5951, Validation Loss: 0.8278, Validation Accuracy: 0.7080\n",
      "Early stopping\n"
     ]
    },
    {
     "data": {
      "text/plain": "<Figure size 1200x600 with 2 Axes>",
      "image/png": "[encoded data removed]"
     },
     "metadata": {},
     "output_type": "display_data"
    },
    {
     "name": "stdout",
     "output_type": "stream",
     "text": [
      "Model is saved to: C:/Users/AdamBao/PycharmProjects/Tool_Classifier/Model/Model/model_weights.pth\n"
     ]
    }
   ],
   "source": [
    "model, optimizer, criterion = get_models(gModel_name, gOptimizer_name, gCriterion_name)\n",
    "train_dataloader, test_dataloader = load_data(train_data_path, test_data_path)\n",
    "progress = ToolPlot(model, criterion, device, train_dataloader, test_dataloader,1)\n",
    "es = EarlyStopping()\n",
    "print(\"training begin\")\n",
    "for epoch in range(gnEpochs):\n",
    "        model.train()\n",
    "        progress.init_running_loss()\n",
    "\n",
    "        for inputs, labels in train_dataloader:\n",
    "            inputs, labels = inputs.to(device), labels.to(device) # move data to GPU/CPU\n",
    "            optimizer.zero_grad()\n",
    "            outputs = model(inputs)\n",
    "            loss = criterion(outputs, labels)\n",
    "            loss.backward()\n",
    "            optimizer.step()\n",
    "            progress.add_loss(loss.item())\n",
    "        \n",
    "        if es.isStop(progress.append(epoch)):\n",
    "            break\n",
    "progress.plot()\n",
    "save_model(model)\n",
    "del model\n",
    "torch.cuda.empty_cache()\n",
    "\n"
   ]
  },
  {
   "cell_type": "code",
   "execution_count": null,
   "metadata": {},
   "outputs": [],
   "source": []
  },
  {
   "cell_type": "code",
   "execution_count": null,
   "metadata": {},
   "outputs": [],
   "source": [
    "\n",
    "\n"
   ]
  }
 ],
 "metadata": {
  "kernelspec": {
   "display_name": "Python 3 (ipykernel)",
   "language": "python",
   "name": "python3"
  },
  "language_info": {
   "codemirror_mode": {
    "name": "ipython",
    "version": 3
   },
   "file_extension": ".py",
   "mimetype": "text/x-python",
   "name": "python",
   "nbconvert_exporter": "python",
   "pygments_lexer": "ipython3",
   "version": "3.9.6"
  }
 },
 "nbformat": 4,
 "nbformat_minor": 4
}
